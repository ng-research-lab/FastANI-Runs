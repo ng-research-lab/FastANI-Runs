{
 "cells": [
  {
   "attachments": {},
   "cell_type": "markdown",
   "metadata": {},
   "source": [
    "This code will extract two files in which I will work with and create a new folder with only these two files (blast_tile & TIGER_gff) will convert our gff and blast files to csv files."
   ]
  },
  {
   "cell_type": "code",
   "execution_count": 5,
   "metadata": {},
   "outputs": [],
   "source": [
    "import os\n",
    "import shutil\n",
    "import csv\n",
    "\n",
    "# specify the parent directory containing the 10 folders\n",
    "parent_directory = 'Coli_2'"
   ]
  },
  {
   "cell_type": "code",
   "execution_count": 7,
   "metadata": {},
   "outputs": [],
   "source": [
    "# specify the filenames to extract\n",
    "filenames = ['genome.IS.nonoverlap.gff', 'genome.IS.blast.tile']"
   ]
  },
  {
   "cell_type": "code",
   "execution_count": 8,
   "metadata": {},
   "outputs": [],
   "source": [
    "# specify the new folder to copy the extracted files to\n",
    "new_folder_path = 'test_jobs'\n",
    "os.makedirs(new_folder_path, exist_ok=True)"
   ]
  },
  {
   "cell_type": "code",
   "execution_count": 9,
   "metadata": {},
   "outputs": [
    {
     "name": "stdout",
     "output_type": "stream",
     "text": [
      "Processing folder Eco1001\n",
      "Processing folder Eco1002\n",
      "Processing folder Eco1004\n",
      "Processing folder Eco10055\n",
      "Processing folder Eco1007\n",
      "Processing folder Eco10072\n",
      "Conversion of genome.IS.blast.tile complete!\n",
      "Conversion of genome.IS.nonoverlap.gff complete!\n",
      "Conversion of genome.IS.blast.tile complete!\n",
      "Conversion of genome.IS.nonoverlap.gff complete!\n",
      "Conversion of genome.IS.blast.tile complete!\n",
      "Conversion of genome.IS.nonoverlap.gff complete!\n",
      "Conversion of genome.IS.blast.tile complete!\n",
      "Conversion of genome.IS.nonoverlap.gff complete!\n",
      "Conversion of genome.IS.blast.tile complete!\n",
      "Conversion of genome.IS.nonoverlap.gff complete!\n",
      "Conversion of genome.IS.blast.tile complete!\n",
      "Conversion of genome.IS.nonoverlap.gff complete!\n"
     ]
    }
   ],
   "source": [
    "# loop through each folder in the parent directory\n",
    "for folder_name in os.listdir(parent_directory):\n",
    "    folder_path = os.path.join(parent_directory, folder_name)\n",
    "    # check if the item is a directory\n",
    "    if os.path.isdir(folder_path):\n",
    "        print(f\"Processing folder {folder_name}\")\n",
    "        \n",
    "        # loop through each file in the folder\n",
    "        for file_name in os.listdir(folder_path):\n",
    "            file_path = os.path.join(folder_path, file_name)\n",
    "            \n",
    "            # check if the file is one we want to extract\n",
    "            if file_name in filenames and os.path.isfile(file_path):\n",
    "                \n",
    "                # create a new folder for the extracted file\n",
    "                output_folder_path = os.path.join(new_folder_path, f\"{folder_name}_files\")\n",
    "                os.makedirs(output_folder_path, exist_ok=True)\n",
    "                \n",
    "                # copy the file to the output folder\n",
    "                output_file_path = os.path.join(output_folder_path, file_name)\n",
    "                shutil.copy(file_path, output_file_path)\n",
    "    # Loop through all subfolders recursively\n",
    "for root, dirs, files in os.walk(new_folder_path):\n",
    "    # Loop through each file in the current subfolder\n",
    "    for file_name in files:\n",
    "        # Check if the file is a CSV or tile file\n",
    "        if file_name.endswith('.gff') or file_name.endswith('.tile'):\n",
    "            # Create the output CSV file name\n",
    "            csv_file_name = os.path.splitext(file_name)[0] + '.csv'\n",
    "\n",
    "            # Open the input and output files\n",
    "            with open(os.path.join(root, file_name), 'r') as input_file, open(os.path.join(root, csv_file_name), 'w', newline='') as output_file:\n",
    "                # Create a CSV writer\n",
    "                csv_writer = csv.writer(output_file)\n",
    "\n",
    "                # Write the header row to the CSV file\n",
    "                csv_writer.writerow(['contig_name', 'software', 'IS', 'LCOR', 'RCOR', 'supporting', 'orientation1', 'orientation2', 'INFO'])\n",
    "\n",
    "                # Loop through each line of the input file\n",
    "                for line in input_file:\n",
    "                    # Skip comments and blank lines\n",
    "                    if line.startswith('#') or line.strip() == '':\n",
    "                        continue\n",
    "\n",
    "                    # Split the line into fields\n",
    "                    fields = line.strip().split()\n",
    "\n",
    "                    # Select only the first 9 columns of the fields list\n",
    "                    fields = fields[:9]\n",
    "\n",
    "                    # Write the fields to the CSV file\n",
    "                    csv_writer.writerow(fields)\n",
    "\n",
    "            print(f'Conversion of {file_name} complete!')\n",
    "\n"
   ]
  }
 ],
 "metadata": {
  "kernelspec": {
   "display_name": "Python 3",
   "language": "python",
   "name": "python3"
  },
  "language_info": {
   "codemirror_mode": {
    "name": "ipython",
    "version": 3
   },
   "file_extension": ".py",
   "mimetype": "text/x-python",
   "name": "python",
   "nbconvert_exporter": "python",
   "pygments_lexer": "ipython3",
   "version": "3.9.13"
  },
  "orig_nbformat": 4
 },
 "nbformat": 4,
 "nbformat_minor": 2
}
