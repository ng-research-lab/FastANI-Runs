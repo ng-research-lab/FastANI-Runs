{
 "cells": [
  {
   "cell_type": "code",
   "execution_count": null,
   "metadata": {},
   "outputs": [],
   "source": [
    "import pandas as pd\n",
    "import re\n",
    "import os"
   ]
  },
  {
   "cell_type": "code",
   "execution_count": null,
   "metadata": {},
   "outputs": [],
   "source": [
    "\n",
    "search_dir = 'Coli_2_files'\n",
    "search_dir_with_extra_slash = search_dir + '/'\n"
   ]
  },
  {
   "cell_type": "code",
   "execution_count": null,
   "metadata": {},
   "outputs": [],
   "source": [
    "def deltermini_label(dataframe):\n",
    "\n",
    "    string = dataframe\n",
    "\n",
    "    # Use regular expression to match \"sum=\" and \"islen=\" followed by numbers\n",
    "    sum_match = re.search(r'sum=(\\d+-\\d+:\\d+-\\d+)', string)\n",
    "    islen_match = re.search(r'islen=(\\d+)', string)\n",
    "\n",
    "    # Extract the matched values\n",
    "    sum_value = sum_match.group(1) if sum_match else None\n",
    "    islen_value = islen_match.group(1) if islen_match else None\n",
    "\n",
    "    sum_values = sum_value.split(\"-\")  # First split by \"-\"\n",
    "    sum_values = [value.split(\":\") for value in sum_values]  # Then split by \":\"\n",
    "\n",
    "    # formula\n",
    "    del_termini = 1 - int(sum_values[0][0]) + int(sum_values[1][0])- int(islen_value) \n",
    "\n",
    "    if del_termini==0:\n",
    "        label = \"Complete\"\n",
    "    else:\n",
    "        label = \"Incomplete\"\n",
    "\n",
    "    return label"
   ]
  },
  {
   "cell_type": "code",
   "execution_count": null,
   "metadata": {},
   "outputs": [],
   "source": [
    "def del_internal(string):\n",
    "\n",
    "    sum_value = string.split(\"sum=\")[1].split(\";\")[0]\n",
    "\n",
    "    sum_string = sum_value\n",
    "\n",
    "    # Define a regular expression pattern to match any character that is not a digit.\n",
    "    pattern = r\"[^0-9]+\"\n",
    "\n",
    "    # Use the re.split() method to split the string at any character that is not a digit.\n",
    "    numbers = re.split(pattern, sum_string)\n",
    "\n",
    "    # Filter out any empty strings that may have resulted from the split.\n",
    "    numbers = list(filter(None, numbers))\n",
    "\n",
    "    #formula\n",
    "    del_internal = (int(numbers[1]) - int(numbers[4])) + (int(numbers[3]) - int(numbers[6]))\n",
    "\n",
    "    del_internal\n",
    "\n",
    "    if del_internal > 0:\n",
    "        label = \"insertion\"\n",
    "    else:\n",
    "        label = \"delation\"\n",
    "\n",
    "    return label"
   ]
  },
  {
   "cell_type": "code",
   "execution_count": null,
   "metadata": {},
   "outputs": [],
   "source": [
    "def match_ter(search_dir, foldername):\n",
    "\n",
    "    # replace 'file.csv' with the actual file name and path\n",
    "    df1 = pd.read_csv(search_dir + '/'+foldername + '/genome.IS.blast.csv')\n",
    "    \n",
    "    blast_df = df1.copy().dropna(axis=1)\n",
    "\n",
    "    list_label = []\n",
    "    list_internallabel = []\n",
    "    \n",
    "    for att_str in blast_df['INFO']:\n",
    "        list_label.append(deltermini_label(att_str))\n",
    "        if \"+\" in att_str.split(\"sum=\")[1]:\n",
    "            list_internallabel.append(del_internal(att_str))\n",
    "        else:\n",
    "            list_internallabel.append(\"None\")\n",
    "\n",
    "\n",
    "    blast_df['del_termini'] = list_label\n",
    "    blast_df['del_internal'] = list_internallabel\n",
    "    \n",
    "    blast_df.to_csv(search_dir + '/'+foldername + '/deltermini_out.csv') \n",
    "\n",
    "    #####\n",
    "    return -1"
   ]
  },
  {
   "cell_type": "code",
   "execution_count": null,
   "metadata": {},
   "outputs": [],
   "source": [
    "for entry in os.listdir(search_dir):\n",
    "    foldername = entry.replace(search_dir_with_extra_slash, '')\n",
    "    match_ter(search_dir, foldername=foldername)"
   ]
  }
 ],
 "metadata": {
  "kernelspec": {
   "display_name": "Python 3",
   "language": "python",
   "name": "python3"
  },
  "language_info": {
   "codemirror_mode": {
    "name": "ipython",
    "version": 3
   },
   "file_extension": ".py",
   "mimetype": "text/x-python",
   "name": "python",
   "nbconvert_exporter": "python",
   "pygments_lexer": "ipython3",
   "version": "3.9.13"
  },
  "orig_nbformat": 4
 },
 "nbformat": 4,
 "nbformat_minor": 2
}
