{
 "cells": [
  {
   "cell_type": "code",
   "execution_count": 4,
   "metadata": {},
   "outputs": [],
   "source": [
    "import pandas as pd\n",
    "import os\n",
    "\n",
    "search_dir = 'Parent'\n",
    "search_dir_with_extra_slash = search_dir + '/'\n",
    "\n"
   ]
  },
  {
   "cell_type": "code",
   "execution_count": 13,
   "metadata": {},
   "outputs": [],
   "source": [
    "def matchcord(search_dir, foldername, tol):\n",
    "\n",
    "    # replace 'file.csv' with the actual file name and path\n",
    "    df1 = pd.read_csv(search_dir + '/'+foldername + '/tile.csv')\n",
    "    df2 = pd.read_csv(search_dir + '/'+foldername + '/genome.IS.nonoverlap.csv')\n",
    "\n",
    "    dataframe_blast = pd.DataFrame()\n",
    "    dataframe_tiger = pd.DataFrame()\n",
    "\n",
    "    \n",
    "\n",
    "    for idx, data1 in enumerate(df1['LCOR']):\n",
    "        for idx1, data2 in enumerate(df2['LCOR']):\n",
    "            if data1==data2:\n",
    "                # print('exact match')\n",
    "                dataframe_blast = dataframe_blast.append(df1.iloc[[idx]])\n",
    "                dataframe_tiger = dataframe_tiger.append(df2.iloc[[idx1]])\n",
    "            elif abs(data1-data2) <= tol:\n",
    "                # print('match is wintin +/- 10')\n",
    "                dataframe_blast = dataframe_blast.append(df1.iloc[[idx]])\n",
    "                dataframe_tiger=dataframe_tiger.append(df2.iloc[[idx1]])\n",
    "            \n",
    "     \n",
    " \n",
    "    dataframe_blast.to_csv(search_dir + '/'+foldername + '/BLAST_out.csv') \n",
    "    dataframe_tiger.to_csv(search_dir + '/'+foldername + '/TIGER_out.csv') \n",
    "\n",
    "    return -1"
   ]
  },
  {
   "cell_type": "code",
   "execution_count": 14,
   "metadata": {},
   "outputs": [],
   "source": [
    "for entry in os.listdir(search_dir):\n",
    "    foldername = entry.replace(search_dir_with_extra_slash, '')\n",
    "    matchcord(search_dir, foldername=foldername, tol=10)"
   ]
  }
 ],
 "metadata": {
  "kernelspec": {
   "display_name": "Python 3",
   "language": "python",
   "name": "python3"
  },
  "language_info": {
   "codemirror_mode": {
    "name": "ipython",
    "version": 3
   },
   "file_extension": ".py",
   "mimetype": "text/x-python",
   "name": "python",
   "nbconvert_exporter": "python",
   "pygments_lexer": "ipython3",
   "version": "3.9.13"
  },
  "orig_nbformat": 4
 },
 "nbformat": 4,
 "nbformat_minor": 2
}
